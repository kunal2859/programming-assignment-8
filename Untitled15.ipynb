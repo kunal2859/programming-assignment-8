{
 "cells": [
  {
   "cell_type": "code",
   "execution_count": 1,
   "id": "7d6cd8d4",
   "metadata": {},
   "outputs": [
    {
     "name": "stdout",
     "output_type": "stream",
     "text": [
      "[11, 13, 15]\n",
      "[17, 19, 21]\n",
      "[23, 25, 27]\n"
     ]
    }
   ],
   "source": [
    "x=[[1,2,3],\n",
    "  [4,5,6],\n",
    "  [7,8,9]]\n",
    "y=[[10,11,12],\n",
    "  [13,14,15],\n",
    "  [16,17,18]]\n",
    "sum=[[x[i][j] +y[i][j] for j in range(len(x[0]))] for i in range(len(x))]\n",
    "for i in sum:\n",
    "    print(i)"
   ]
  },
  {
   "cell_type": "code",
   "execution_count": 2,
   "id": "4988839f",
   "metadata": {},
   "outputs": [
    {
     "name": "stdout",
     "output_type": "stream",
     "text": [
      "[84, 90, 96]\n",
      "[201, 216, 231]\n",
      "[318, 342, 366]\n"
     ]
    }
   ],
   "source": [
    "x=[[1,2,3],\n",
    "  [4,5,6],\n",
    "  [7,8,9]]\n",
    "y=[[10,11,12],\n",
    "  [13,14,15],\n",
    "  [16,17,18]]\n",
    "res=[[0,0,0],\n",
    "    [0,0,0],\n",
    "    [0,0,0]]\n",
    "for i in range(len(x)):\n",
    "    for j in range(len(y[0])):\n",
    "        for k in range(len(y)):\n",
    "            res[i][j]+=x[i][k]*y[k][j]\n",
    "for i in res:\n",
    "    print(i)"
   ]
  },
  {
   "cell_type": "code",
   "execution_count": 3,
   "id": "9c146b8d",
   "metadata": {},
   "outputs": [
    {
     "name": "stdout",
     "output_type": "stream",
     "text": [
      "[1, 4, 7]\n",
      "[2, 5, 8]\n",
      "[3, 6, 9]\n"
     ]
    }
   ],
   "source": [
    "x=[[1,2,3],\n",
    "  [4,5,6],\n",
    "  [7,8,9]]\n",
    "res=[[x[j][i] for j in range(len(x))] for i in range(len(x[0]))]\n",
    "for i in res:\n",
    "    print(i)"
   ]
  },
  {
   "cell_type": "code",
   "execution_count": 4,
   "id": "32225159",
   "metadata": {},
   "outputs": [
    {
     "name": "stdout",
     "output_type": "stream",
     "text": [
      "aggarwal\n",
      "is\n",
      "kunal\n",
      "my\n",
      "name\n"
     ]
    }
   ],
   "source": [
    "str=\"My name is Kunal Aggarwal\"\n",
    "words=[word.lower() for word in str.split()]\n",
    "words.sort()\n",
    "for i in words:\n",
    "    print(i)"
   ]
  },
  {
   "cell_type": "code",
   "execution_count": 6,
   "id": "62556a0b",
   "metadata": {},
   "outputs": [
    {
     "name": "stdout",
     "output_type": "stream",
     "text": [
      " Hello my name is KunalAggarwal\n"
     ]
    }
   ],
   "source": [
    "punctuations='''!()-[]{}:;\"\\,<>?|@#$%^&*~`_'''\n",
    "str=\"Hello!!!, my name is Kunal_Aggarwal\"\n",
    "punc=\" \"\n",
    "for char in str:\n",
    "    if char not in punctuations:\n",
    "        punc+=char\n",
    "print(punc)"
   ]
  },
  {
   "cell_type": "code",
   "execution_count": null,
   "id": "72aac2bc",
   "metadata": {},
   "outputs": [],
   "source": []
  }
 ],
 "metadata": {
  "kernelspec": {
   "display_name": "Python 3 (ipykernel)",
   "language": "python",
   "name": "python3"
  },
  "language_info": {
   "codemirror_mode": {
    "name": "ipython",
    "version": 3
   },
   "file_extension": ".py",
   "mimetype": "text/x-python",
   "name": "python",
   "nbconvert_exporter": "python",
   "pygments_lexer": "ipython3",
   "version": "3.9.7"
  }
 },
 "nbformat": 4,
 "nbformat_minor": 5
}
